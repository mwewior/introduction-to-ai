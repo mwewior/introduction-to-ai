{
 "cells": [
  {
   "cell_type": "markdown",
   "metadata": {},
   "source": [
    "# Pierwsze labki\n",
    "## Informacyjne\n",
    "\n",
    "\n",
    "Każde labki muszą być oddane<br>\n",
    "Trzeba być na zajęciach oddania/dostania kolejnych labów<br>\n",
    "\n",
    "\n",
    "## co robić\n",
    "\n",
    "Metoda gradeintu dla dwóch funkcji (dwuwymiarowych)<br>\n",
    "Graficznie matplotlibem<br>\n",
    "testy dla tych gradientów<br><br>\n",
    "testy:\n",
    "od czego zależy zbieżność funkcji<br>\n",
    "zależność od paramteru beta / jakeigoś uczenia niby<br><br><br>\n",
    "\n",
    "\n",
    "\n",
    "\n",
    "Gradient prosty<br>\n",
    "wizualizacja<br>\n",
    "tabela parametrów<br><br><br>\n",
    "\n",
    "\n",
    "\n",
    "częstym błędem jest hardcode funkcji celu solwera<br>\n",
    "punkt startowy i funkcja celu powinny być wejściem<br>\n",
    "\n",
    "Sprawozdanie"
   ]
  }
 ],
 "metadata": {
  "language_info": {
   "name": "python"
  }
 },
 "nbformat": 4,
 "nbformat_minor": 2
}
