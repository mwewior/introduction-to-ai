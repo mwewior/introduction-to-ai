{
 "cells": [
  {
   "cell_type": "markdown",
   "metadata": {},
   "source": [
    "# [WSI] Ćwiczenie nr 3\n",
    "### Algorytm MinMax\n",
    "\n",
    "Mikołaj Wewiór 318407\n"
   ]
  },
  {
   "cell_type": "code",
   "execution_count": 19,
   "metadata": {},
   "outputs": [],
   "source": [
    "from src.board import Board\n",
    "from src.minmax import playGame\n",
    "from src.minmax import MinMaxSolver\n",
    "import numpy as np\n",
    "import copy\n",
    "\n"
   ]
  },
  {
   "cell_type": "code",
   "execution_count": 20,
   "metadata": {},
   "outputs": [],
   "source": [
    "WAGES = [\n",
    "    [3, 2, 3],\n",
    "    [2, 4, 2],\n",
    "    [3, 2, 3]\n",
    "]\n",
    "\n",
    "PRINT = False\n",
    "SIZE = 3\n",
    "DEPTH = 9\n",
    "WITH_ALPHA = False\n"
   ]
  },
  {
   "cell_type": "code",
   "execution_count": 21,
   "metadata": {},
   "outputs": [],
   "source": [
    "# nostate\n",
    "\n",
    "\n",
    "notactoe = Board(3, False, True)\n",
    "nominmax = MinMaxSolver(notactoe, depth=8, pruning=False)"
   ]
  },
  {
   "cell_type": "code",
   "execution_count": 35,
   "metadata": {},
   "outputs": [
    {
     "name": "stdout",
     "output_type": "stream",
     "text": [
      "(0, 1)\n",
      "69.41295 ms\n",
      "\n",
      "\n",
      "     |     |     \n",
      "  x  |  x  |  3  \n",
      "_____|_____|_____\n",
      "     |     |     \n",
      "  4  |  o  |  6  \n",
      "_____|_____|_____\n",
      "     |     |     \n",
      "  x  |  8  |  9  \n",
      "     |     |     \n",
      "\n",
      "-----------------------------\n"
     ]
    },
    {
     "data": {
      "text/plain": [
       "69.41295"
      ]
     },
     "execution_count": 35,
     "metadata": {},
     "output_type": "execute_result"
    }
   ],
   "source": [
    "def single_test(init_state, player):\n",
    "    state = copy.deepcopy(init_state)\n",
    "    state = np.array(state)\n",
    "    tictactoe = Board(len(state), x_starts=True, prints=True, init_state=state)\n",
    "    minmax = MinMaxSolver(tictactoe, depth=4, pruning=False)\n",
    "    move = minmax.make_best_move(state, player)\n",
    "    time = minmax.time_history[-1]\n",
    "    del state\n",
    "    print(move)\n",
    "    print(f'{time} ms')\n",
    "    tictactoe.move(move, player)\n",
    "    return time\n",
    "\n",
    "state = [\n",
    "    ['x', '', ''],\n",
    "    ['', 'o', ''],\n",
    "    ['x', '', '']\n",
    "]\n",
    "\n",
    "single_test(init_state=state, player='x')"
   ]
  },
  {
   "cell_type": "code",
   "execution_count": 23,
   "metadata": {},
   "outputs": [],
   "source": [
    "def experimetns(init_state, player):\n",
    "    timers = []\n",
    "    for _ in range(10):\n",
    "        time = single_test(init_state, player)\n",
    "        timers.append(time)\n",
    "    return timers"
   ]
  },
  {
   "cell_type": "code",
   "execution_count": 24,
   "metadata": {},
   "outputs": [
    {
     "name": "stdout",
     "output_type": "stream",
     "text": [
      "(1, 0)\n",
      "149.96743 ms\n",
      "\n",
      "\n",
      "     |     |     \n",
      "  x  |  2  |  3  \n",
      "_____|_____|_____\n",
      "     |     |     \n",
      "  o  |  o  |  6  \n",
      "_____|_____|_____\n",
      "     |     |     \n",
      "  x  |  8  |  9  \n",
      "     |     |     \n",
      "\n",
      "-----------------------------\n"
     ]
    },
    {
     "name": "stdout",
     "output_type": "stream",
     "text": [
      "(1, 0)\n",
      "377.63906 ms\n",
      "\n",
      "\n",
      "     |     |     \n",
      "  x  |  2  |  3  \n",
      "_____|_____|_____\n",
      "     |     |     \n",
      "  o  |  o  |  6  \n",
      "_____|_____|_____\n",
      "     |     |     \n",
      "  x  |  8  |  9  \n",
      "     |     |     \n",
      "\n",
      "-----------------------------\n",
      "(1, 0)\n",
      "180.686 ms\n",
      "\n",
      "\n",
      "     |     |     \n",
      "  x  |  2  |  3  \n",
      "_____|_____|_____\n",
      "     |     |     \n",
      "  o  |  o  |  6  \n",
      "_____|_____|_____\n",
      "     |     |     \n",
      "  x  |  8  |  9  \n",
      "     |     |     \n",
      "\n",
      "-----------------------------\n",
      "(1, 0)\n",
      "68.43853 ms\n",
      "\n",
      "\n",
      "     |     |     \n",
      "  x  |  2  |  3  \n",
      "_____|_____|_____\n",
      "     |     |     \n",
      "  o  |  o  |  6  \n",
      "_____|_____|_____\n",
      "     |     |     \n",
      "  x  |  8  |  9  \n",
      "     |     |     \n",
      "\n",
      "-----------------------------\n",
      "(1, 0)\n",
      "63.24506 ms\n",
      "\n",
      "\n",
      "     |     |     \n",
      "  x  |  2  |  3  \n",
      "_____|_____|_____\n",
      "     |     |     \n",
      "  o  |  o  |  6  \n",
      "_____|_____|_____\n",
      "     |     |     \n",
      "  x  |  8  |  9  \n",
      "     |     |     \n",
      "\n",
      "-----------------------------\n",
      "(1, 0)\n",
      "78.0766 ms\n",
      "\n",
      "\n",
      "     |     |     \n",
      "  x  |  2  |  3  \n",
      "_____|_____|_____\n",
      "     |     |     \n",
      "  o  |  o  |  6  \n",
      "_____|_____|_____\n",
      "     |     |     \n",
      "  x  |  8  |  9  \n",
      "     |     |     \n",
      "\n",
      "-----------------------------\n",
      "(1, 0)\n",
      "80.89375 ms\n",
      "\n",
      "\n",
      "     |     |     \n",
      "  x  |  2  |  3  \n",
      "_____|_____|_____\n",
      "     |     |     \n",
      "  o  |  o  |  6  \n",
      "_____|_____|_____\n",
      "     |     |     \n",
      "  x  |  8  |  9  \n",
      "     |     |     \n",
      "\n",
      "-----------------------------\n",
      "(1, 0)\n",
      "141.54625 ms\n",
      "\n",
      "\n",
      "     |     |     \n",
      "  x  |  2  |  3  \n",
      "_____|_____|_____\n",
      "     |     |     \n",
      "  o  |  o  |  6  \n",
      "_____|_____|_____\n",
      "     |     |     \n",
      "  x  |  8  |  9  \n",
      "     |     |     \n",
      "\n",
      "-----------------------------\n",
      "(1, 0)\n",
      "106.89211 ms\n",
      "\n",
      "\n",
      "     |     |     \n",
      "  x  |  2  |  3  \n",
      "_____|_____|_____\n",
      "     |     |     \n",
      "  o  |  o  |  6  \n",
      "_____|_____|_____\n",
      "     |     |     \n",
      "  x  |  8  |  9  \n",
      "     |     |     \n",
      "\n",
      "-----------------------------\n",
      "(1, 0)\n",
      "74.13244 ms\n",
      "\n",
      "\n",
      "     |     |     \n",
      "  x  |  2  |  3  \n",
      "_____|_____|_____\n",
      "     |     |     \n",
      "  o  |  o  |  6  \n",
      "_____|_____|_____\n",
      "     |     |     \n",
      "  x  |  8  |  9  \n",
      "     |     |     \n",
      "\n",
      "-----------------------------\n"
     ]
    }
   ],
   "source": [
    "state = [\n",
    "    ['x', '', ''],\n",
    "    ['', 'o', ''],\n",
    "    ['x', '', '']\n",
    "]\n",
    "\n",
    "tim_list = experimetns(init_state=state, player='o')"
   ]
  },
  {
   "cell_type": "code",
   "execution_count": 25,
   "metadata": {},
   "outputs": [
    {
     "name": "stdout",
     "output_type": "stream",
     "text": [
      "(1, 1)\n",
      "2527.4055 ms\n"
     ]
    }
   ],
   "source": [
    "# state = [\n",
    "#     ['x', '', 'x'],\n",
    "#     ['', 'o', ''],\n",
    "#     ['o', '', '']\n",
    "# ]\n",
    "state = [\n",
    "    ['x', '', ''],\n",
    "    ['', '', ''],\n",
    "    ['', '', '']\n",
    "]\n",
    "state = np.array(state)\n",
    "tictactoe = Board(len(state), x_starts=False, prints=False, init_state=state)\n",
    "minmax = MinMaxSolver(tictactoe, depth=8, pruning=True)\n",
    "player = 'o'\n",
    "move = minmax.make_best_move(state, player)\n",
    "time = minmax.time_history[-1]\n",
    "\n",
    "print(move)\n",
    "print(f'{time} ms')\n",
    "tictactoe.move(move, player)\n",
    "# move = minmax.make_best_move(, 'x')"
   ]
  },
  {
   "cell_type": "code",
   "execution_count": 26,
   "metadata": {},
   "outputs": [
    {
     "name": "stdout",
     "output_type": "stream",
     "text": [
      "[['' '' '']\n",
      " ['' '' '']\n",
      " ['' '' '']]\n",
      "[['' '' '']\n",
      " ['' '' '']\n",
      " ['' '' '']]\n"
     ]
    }
   ],
   "source": [
    "bruh = np.ndarray((3, 3), dtype='U7')\n",
    "print(bruh)\n",
    "bruh2 = np.full((3,3), '')\n",
    "print(bruh2)"
   ]
  },
  {
   "cell_type": "code",
   "execution_count": 27,
   "metadata": {},
   "outputs": [],
   "source": [
    "# d = 1\n",
    "# txt = \"\"\n",
    "\n",
    "# txt += \"HALO\\n\"\n",
    "# txt += f\" no tego {d}\"\n",
    "# txt += \"\\n\\n benc\\n.\"\n",
    "\n",
    "# file_name = \"src/results/sprawdz.txt\"\n",
    "# with open(file_name, 'w+') as f:\n",
    "#     f.write(\"haha\")\n",
    "# # print(txt)"
   ]
  },
  {
   "cell_type": "markdown",
   "metadata": {},
   "source": []
  }
 ],
 "metadata": {
  "kernelspec": {
   "display_name": "Python 3",
   "language": "python",
   "name": "python3"
  },
  "language_info": {
   "codemirror_mode": {
    "name": "ipython",
    "version": 3
   },
   "file_extension": ".py",
   "mimetype": "text/x-python",
   "name": "python",
   "nbconvert_exporter": "python",
   "pygments_lexer": "ipython3",
   "version": "3.8.10"
  }
 },
 "nbformat": 4,
 "nbformat_minor": 2
}
