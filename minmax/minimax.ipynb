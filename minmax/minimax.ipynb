{
 "cells": [
  {
   "cell_type": "markdown",
   "metadata": {},
   "source": [
    "# [WSI] Ćwiczenie nr 3\n",
    "### Algorytm MinMax\n",
    "\n",
    "Mikołaj Wewiór 318407\n"
   ]
  },
  {
   "cell_type": "code",
   "execution_count": 4,
   "metadata": {},
   "outputs": [],
   "source": [
    "from src.board import Board\n",
    "from src.minmax import playGame\n",
    "from src.minmax import MinMaxSolver\n",
    "\n",
    "\n"
   ]
  },
  {
   "cell_type": "code",
   "execution_count": 2,
   "metadata": {},
   "outputs": [],
   "source": [
    "WAGES = [\n",
    "    [3, 2, 3],\n",
    "    [2, 4, 2],\n",
    "    [3, 2, 3]\n",
    "]\n",
    "\n",
    "PRINT = False\n",
    "SIZE = 3\n",
    "DEPTH = 9\n",
    "WITH_ALPHA = False\n"
   ]
  },
  {
   "cell_type": "code",
   "execution_count": 20,
   "metadata": {},
   "outputs": [],
   "source": [
    "d = 1\n",
    "txt = \"\"\n",
    "\n",
    "txt += \"HALO\\n\"\n",
    "txt += f\" no tego {d}\"\n",
    "txt += \"\\n\\n benc\\n.\"\n",
    "\n",
    "file_name = \"src/results/sprawdz.txt\"\n",
    "with open(file_name, 'w+') as f:\n",
    "    f.write(\"haha\")\n",
    "# print(txt)"
   ]
  },
  {
   "cell_type": "markdown",
   "metadata": {},
   "source": []
  }
 ],
 "metadata": {
  "kernelspec": {
   "display_name": "Python 3",
   "language": "python",
   "name": "python3"
  },
  "language_info": {
   "codemirror_mode": {
    "name": "ipython",
    "version": 3
   },
   "file_extension": ".py",
   "mimetype": "text/x-python",
   "name": "python",
   "nbconvert_exporter": "python",
   "pygments_lexer": "ipython3",
   "version": "3.8.10"
  }
 },
 "nbformat": 4,
 "nbformat_minor": 2
}
