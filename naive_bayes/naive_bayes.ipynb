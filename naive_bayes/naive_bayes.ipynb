{
 "cells": [
  {
   "cell_type": "markdown",
   "metadata": {},
   "source": [
    "# WSI ćwiczenie nr 7\n",
    "\n",
    "## Naiwny klasyfikator bayesowski\n",
    "\n",
    "Mikołaj Wewiór 318407"
   ]
  },
  {
   "cell_type": "code",
   "execution_count": 1,
   "metadata": {},
   "outputs": [],
   "source": [
    "import numpy as np\n",
    "import matplotlib.pyplot as plt\n",
    "\n",
    "from sklearn.tree import DecisionTreeClassifier\n",
    "from sklearn.svm import SVC\n",
    "from sklearn.naive_bayes import GaussianNB\n",
    "\n",
    "from sklearn.model_selection import cross_val_score\n",
    "from sklearn.model_selection import StratifiedKFold\n",
    "\n",
    "from src import dataset\n",
    "from src.naiveBayes import NaiveBayesClassifier\n",
    "# try:\n",
    "#     import dataset\n",
    "# except ModuleNotFoundError:\n",
    "#     from src import dataset\n"
   ]
  },
  {
   "cell_type": "code",
   "execution_count": 2,
   "metadata": {},
   "outputs": [],
   "source": [
    "SEED = 318407\n",
    "np.random.seed(SEED)"
   ]
  },
  {
   "cell_type": "markdown",
   "metadata": {},
   "source": [
    "## Porównanie Klasyfikacji"
   ]
  },
  {
   "cell_type": "code",
   "execution_count": 3,
   "metadata": {},
   "outputs": [],
   "source": [
    "ds_skl = dataset.DataSetSKL()\n",
    "\n",
    "SKF = StratifiedKFold(n_splits=5)  #, random_state=SEED)\n",
    "X = ds_skl.features\n",
    "Y = ds_skl.target"
   ]
  },
  {
   "cell_type": "markdown",
   "metadata": {},
   "source": [
    "### SVM"
   ]
  },
  {
   "cell_type": "code",
   "execution_count": 4,
   "metadata": {},
   "outputs": [
    {
     "name": "stderr",
     "output_type": "stream",
     "text": [
      "/home/wewiormik/.local/lib/python3.12/site-packages/sklearn/svm/_base.py:297: ConvergenceWarning: Solver terminated early (max_iter=25).  Consider pre-processing your data with StandardScaler or MinMaxScaler.\n",
      "  warnings.warn(\n",
      "/home/wewiormik/.local/lib/python3.12/site-packages/sklearn/svm/_base.py:297: ConvergenceWarning: Solver terminated early (max_iter=25).  Consider pre-processing your data with StandardScaler or MinMaxScaler.\n",
      "  warnings.warn(\n",
      "/home/wewiormik/.local/lib/python3.12/site-packages/sklearn/svm/_base.py:297: ConvergenceWarning: Solver terminated early (max_iter=25).  Consider pre-processing your data with StandardScaler or MinMaxScaler.\n",
      "  warnings.warn(\n",
      "/home/wewiormik/.local/lib/python3.12/site-packages/sklearn/svm/_base.py:297: ConvergenceWarning: Solver terminated early (max_iter=25).  Consider pre-processing your data with StandardScaler or MinMaxScaler.\n",
      "  warnings.warn(\n",
      "/home/wewiormik/.local/lib/python3.12/site-packages/sklearn/svm/_base.py:297: ConvergenceWarning: Solver terminated early (max_iter=25).  Consider pre-processing your data with StandardScaler or MinMaxScaler.\n",
      "  warnings.warn(\n",
      "/home/wewiormik/.local/lib/python3.12/site-packages/sklearn/svm/_base.py:297: ConvergenceWarning: Solver terminated early (max_iter=25).  Consider pre-processing your data with StandardScaler or MinMaxScaler.\n",
      "  warnings.warn(\n",
      "/home/wewiormik/.local/lib/python3.12/site-packages/sklearn/svm/_base.py:297: ConvergenceWarning: Solver terminated early (max_iter=25).  Consider pre-processing your data with StandardScaler or MinMaxScaler.\n",
      "  warnings.warn(\n",
      "/home/wewiormik/.local/lib/python3.12/site-packages/sklearn/svm/_base.py:297: ConvergenceWarning: Solver terminated early (max_iter=25).  Consider pre-processing your data with StandardScaler or MinMaxScaler.\n",
      "  warnings.warn(\n",
      "/home/wewiormik/.local/lib/python3.12/site-packages/sklearn/svm/_base.py:297: ConvergenceWarning: Solver terminated early (max_iter=25).  Consider pre-processing your data with StandardScaler or MinMaxScaler.\n",
      "  warnings.warn(\n",
      "/home/wewiormik/.local/lib/python3.12/site-packages/sklearn/svm/_base.py:297: ConvergenceWarning: Solver terminated early (max_iter=25).  Consider pre-processing your data with StandardScaler or MinMaxScaler.\n",
      "  warnings.warn(\n",
      "/home/wewiormik/.local/lib/python3.12/site-packages/sklearn/svm/_base.py:297: ConvergenceWarning: Solver terminated early (max_iter=25).  Consider pre-processing your data with StandardScaler or MinMaxScaler.\n",
      "  warnings.warn(\n",
      "/home/wewiormik/.local/lib/python3.12/site-packages/sklearn/svm/_base.py:297: ConvergenceWarning: Solver terminated early (max_iter=25).  Consider pre-processing your data with StandardScaler or MinMaxScaler.\n",
      "  warnings.warn(\n",
      "/home/wewiormik/.local/lib/python3.12/site-packages/sklearn/svm/_base.py:297: ConvergenceWarning: Solver terminated early (max_iter=25).  Consider pre-processing your data with StandardScaler or MinMaxScaler.\n",
      "  warnings.warn(\n",
      "/home/wewiormik/.local/lib/python3.12/site-packages/sklearn/svm/_base.py:297: ConvergenceWarning: Solver terminated early (max_iter=25).  Consider pre-processing your data with StandardScaler or MinMaxScaler.\n",
      "  warnings.warn(\n",
      "/home/wewiormik/.local/lib/python3.12/site-packages/sklearn/svm/_base.py:297: ConvergenceWarning: Solver terminated early (max_iter=25).  Consider pre-processing your data with StandardScaler or MinMaxScaler.\n",
      "  warnings.warn(\n",
      "/home/wewiormik/.local/lib/python3.12/site-packages/sklearn/svm/_base.py:297: ConvergenceWarning: Solver terminated early (max_iter=25).  Consider pre-processing your data with StandardScaler or MinMaxScaler.\n",
      "  warnings.warn(\n",
      "/home/wewiormik/.local/lib/python3.12/site-packages/sklearn/svm/_base.py:297: ConvergenceWarning: Solver terminated early (max_iter=25).  Consider pre-processing your data with StandardScaler or MinMaxScaler.\n",
      "  warnings.warn(\n",
      "/home/wewiormik/.local/lib/python3.12/site-packages/sklearn/svm/_base.py:297: ConvergenceWarning: Solver terminated early (max_iter=25).  Consider pre-processing your data with StandardScaler or MinMaxScaler.\n",
      "  warnings.warn(\n",
      "/home/wewiormik/.local/lib/python3.12/site-packages/sklearn/svm/_base.py:297: ConvergenceWarning: Solver terminated early (max_iter=25).  Consider pre-processing your data with StandardScaler or MinMaxScaler.\n",
      "  warnings.warn(\n",
      "/home/wewiormik/.local/lib/python3.12/site-packages/sklearn/svm/_base.py:297: ConvergenceWarning: Solver terminated early (max_iter=25).  Consider pre-processing your data with StandardScaler or MinMaxScaler.\n",
      "  warnings.warn(\n"
     ]
    }
   ],
   "source": [
    "clfSVM = SVC(\n",
    "    C=0.1, kernel=\"rbf\", tol=10e-16, max_iter=int(25), random_state=SEED\n",
    ")\n",
    "\n",
    "SVM_accuracy = cross_val_score(clfSVM, X, Y, cv=SKF, scoring='accuracy')\n",
    "SVM_precision = cross_val_score(clfSVM, X, Y, cv=SKF, scoring='precision_weighted')\n",
    "SVM_recall = cross_val_score(clfSVM, X, Y, cv=SKF, scoring='recall_weighted')\n",
    "SVM_f1 = cross_val_score(clfSVM, X, Y, cv=SKF, scoring='f1_weighted')\n",
    "\n",
    "SVM_scores = [SVM_accuracy, SVM_precision, SVM_recall, SVM_f1]\n"
   ]
  },
  {
   "cell_type": "markdown",
   "metadata": {},
   "source": [
    "### Tree"
   ]
  },
  {
   "cell_type": "code",
   "execution_count": 5,
   "metadata": {},
   "outputs": [],
   "source": [
    "clfTree = DecisionTreeClassifier(\n",
    "    criterion=\"entropy\", splitter=\"best\", max_depth=4, random_state=SEED\n",
    ")\n",
    "\n",
    "TREE_accuracy = cross_val_score(clfTree, X, Y, cv=SKF, scoring=\"accuracy\")\n",
    "TREE_precision = cross_val_score(clfTree, X, Y, cv=SKF, scoring=\"precision_weighted\")\n",
    "TREE_recall = cross_val_score(clfTree, X, Y, cv=SKF, scoring=\"recall_weighted\")\n",
    "TREE_f1 = cross_val_score(clfTree, X, Y, cv=SKF, scoring=\"f1_weighted\")\n",
    "\n",
    "TREE_scores = [TREE_accuracy, TREE_precision, TREE_recall, TREE_f1]\n"
   ]
  },
  {
   "cell_type": "markdown",
   "metadata": {},
   "source": [
    "### Bayes"
   ]
  },
  {
   "cell_type": "code",
   "execution_count": 6,
   "metadata": {},
   "outputs": [],
   "source": [
    "clfGNB = GaussianNB()\n",
    "\n",
    "GNB_accuracy = cross_val_score(clfGNB, ds_skl.features, ds_skl.target, cv=SKF, scoring='accuracy')\n",
    "GNB_precision = cross_val_score(clfGNB, ds_skl.features, ds_skl.target, cv=SKF, scoring='precision_weighted')\n",
    "GNB_recall = cross_val_score(clfGNB, ds_skl.features, ds_skl.target, cv=SKF, scoring='recall_weighted')\n",
    "GNB_f1 = cross_val_score(clfGNB, ds_skl.features, ds_skl.target, cv=SKF, scoring='f1_weighted')\n",
    "\n",
    "GNB_scores = [GNB_accuracy, GNB_precision, GNB_recall, GNB_f1]\n"
   ]
  },
  {
   "cell_type": "code",
   "execution_count": 7,
   "metadata": {},
   "outputs": [],
   "source": [
    "clfBayes = NaiveBayesClassifier()\n",
    "\n",
    "BAYES_accuracy = cross_val_score(clfBayes, X, Y, cv=SKF, scoring=\"accuracy\")\n",
    "BAYES_precision = cross_val_score(clfBayes, X, Y, cv=SKF, scoring=\"precision_weighted\")\n",
    "BAYES_recall = cross_val_score(clfBayes, X, Y, cv=SKF, scoring=\"recall_weighted\")\n",
    "BAYES_f1 = cross_val_score(clfBayes, X, Y, cv=SKF, scoring=\"f1_weighted\")\n",
    "\n",
    "BAYES_scores = [BAYES_accuracy, BAYES_precision, BAYES_recall, BAYES_f1]\n"
   ]
  },
  {
   "cell_type": "markdown",
   "metadata": {},
   "source": [
    "### OUTPUT"
   ]
  },
  {
   "cell_type": "code",
   "execution_count": 8,
   "metadata": {},
   "outputs": [
    {
     "name": "stdout",
     "output_type": "stream",
     "text": [
      "\n",
      "SVM scores (mean +- deviation)\n",
      " accuracy: 95.33333333333334 +- 3.399346342395189 [%]\n",
      "precision: 95.72390572390572 +- 3.260260858426985 [%]\n",
      "   recall: 95.33333333333334 +- 3.399346342395189 [%]\n",
      "       f1: 95.31151110098477 +- 3.413878690742713 [%]\n",
      "\n",
      "Decision Tree scores (mean +- deviation)\n",
      " accuracy: 93.33333333333333 +- 5.577733510227169 [%]\n",
      "precision: 93.64983164983165 +- 5.5688892129758765 [%]\n",
      "   recall: 93.33333333333333 +- 5.577733510227169 [%]\n",
      "       f1: 93.30984025720866 +- 5.591759514319502 [%]\n",
      "\n",
      "(Sklearn Gausian NB) Naive Bayes scores (mean +- deviation)\n",
      " accuracy: 94.66666666666666 +- 3.399346342395189 [%]\n",
      "precision: 95.21885521885523 +- 3.223543069333713 [%]\n",
      "   recall: 94.66666666666666 +- 3.399346342395189 [%]\n",
      "       f1: 94.6330472646262 +- 3.415890573037327 [%]\n",
      "\n",
      "(Own) Naive Bayes scores (mean +- deviation)\n",
      " accuracy: 92.0 +- 7.483314773547882 [%]\n",
      "precision: 93.44078144078142 +- 5.972173474025375 [%]\n",
      "   recall: 92.0 +- 7.483314773547882 [%]\n",
      "       f1: 91.70105143506679 +- 7.833821105923308 [%]\n"
     ]
    }
   ],
   "source": [
    "def print_results(scores, classifier_name):\n",
    "    metrics = [\" accuracy\", \"precision\", \"   recall\", \"       f1\"]\n",
    "    print(f\"\\n{classifier_name} scores (mean +- deviation)\")\n",
    "    for score, metric in zip(scores, metrics):\n",
    "        print(f\"{metric}: {100*score.mean()} +- {100*score.std()} [%]\")\n",
    "\n",
    "\n",
    "print_results(SVM_scores, \"SVM\")\n",
    "print_results(TREE_scores, \"Decision Tree\")\n",
    "print_results(GNB_scores, \"(Sklearn Gausian NB) Naive Bayes\")\n",
    "print_results(BAYES_scores, \"(Own) Naive Bayes\")\n"
   ]
  }
 ],
 "metadata": {
  "kernelspec": {
   "display_name": "Python 3",
   "language": "python",
   "name": "python3"
  },
  "language_info": {
   "codemirror_mode": {
    "name": "ipython",
    "version": 3
   },
   "file_extension": ".py",
   "mimetype": "text/x-python",
   "name": "python",
   "nbconvert_exporter": "python",
   "pygments_lexer": "ipython3",
   "version": "3.12.3"
  }
 },
 "nbformat": 4,
 "nbformat_minor": 2
}
