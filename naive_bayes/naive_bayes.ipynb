{
 "cells": [
  {
   "cell_type": "markdown",
   "metadata": {},
   "source": [
    "# WSI ćwiczenie nr 7\n",
    "\n",
    "## Naiwny klasyfikator bayesowski\n",
    "\n",
    "Mikołaj Wewiór 318407"
   ]
  },
  {
   "cell_type": "code",
   "execution_count": 1,
   "metadata": {},
   "outputs": [],
   "source": [
    "import numpy as np\n",
    "import matplotlib.pyplot as plt\n",
    "\n",
    "from sklearn.model_selection import cross_val_score\n",
    "from sklearn.tree import DecisionTreeClassifier\n",
    "from sklearn.svm import SVC\n",
    "\n",
    "from src import dataset\n",
    "import time\n",
    "\n",
    "\n",
    "SEED = 318407"
   ]
  },
  {
   "cell_type": "code",
   "execution_count": 2,
   "metadata": {},
   "outputs": [],
   "source": [
    "ds_skl = dataset.DataSetSKL()\n"
   ]
  },
  {
   "cell_type": "code",
   "execution_count": 3,
   "metadata": {},
   "outputs": [
    {
     "data": {
      "text/plain": [
       "array([6.4, 2.7, 5.3, 1.9, 2. ])"
      ]
     },
     "execution_count": 3,
     "metadata": {},
     "output_type": "execute_result"
    }
   ],
   "source": [
    "ds_skl.data[0]"
   ]
  },
  {
   "cell_type": "code",
   "execution_count": null,
   "metadata": {},
   "outputs": [],
   "source": [
    "clfSVM = SVC(\n",
    "    C=0.1, kernel=\"rbf\", tol=10e-16, max_iter=int(25), random_state=SEED\n",
    ")\n",
    "\n",
    "SVM_accuracy = cross_val_score(clfSVM, ds_skl.features, ds_skl.target, cv=5, scoring='accuracy')\n",
    "SVM_precision = cross_val_score(clfSVM, ds_skl.features, ds_skl.target, cv=5, scoring='precision_weighted')\n",
    "SVM_recall = cross_val_score(clfSVM, ds_skl.features, ds_skl.target, cv=5, scoring='recall_weighted')\n",
    "SVM_f1 = cross_val_score(clfSVM, ds_skl.features, ds_skl.target, cv=5, scoring='f1_weighted')\n",
    "\n",
    "SVM_scores = [SVM_accuracy, SVM_precision, SVM_recall, SVM_f1]\n",
    "\n",
    "\n",
    "clfTree = DecisionTreeClassifier(\n",
    "    criterion=\"entropy\", splitter=\"best\", max_depth=4, random_state=SEED\n",
    ")\n",
    "\n",
    "TREE_accuracy = cross_val_score(clfTree, ds_skl.features, ds_skl.target, cv=5, scoring = \"accuracy\")\n",
    "TREE_precision = cross_val_score(clfTree, ds_skl.features, ds_skl.target, cv=5, scoring = \"precision_weighted\")\n",
    "TREE_recall = cross_val_score(clfTree, ds_skl.features, ds_skl.target, cv=5, scoring = \"recall_weighted\")\n",
    "TREE_f1 = cross_val_score(clfTree, ds_skl.features, ds_skl.target, cv=5, scoring = \"f1_weighted\")\n",
    "\n",
    "TREE_scores = [TREE_accuracy, TREE_precision, TREE_recall, TREE_f1]"
   ]
  },
  {
   "cell_type": "code",
   "execution_count": 7,
   "metadata": {},
   "outputs": [
    {
     "name": "stdout",
     "output_type": "stream",
     "text": [
      "\n",
      "SVM scores (mean +- deviation)\n",
      " accuracy: 95.33333333333334 +- 3.399346342395189 [%]\n",
      "precision: 95.72390572390572 +- 3.260260858426985 [%]\n",
      "   recall: 95.33333333333334 +- 3.399346342395189 [%]\n",
      "       f1: 95.31151110098477 +- 3.413878690742713 [%]\n",
      "\n",
      "TREE scores (mean +- deviation)\n",
      " accuracy: 93.33333333333333 +- 5.577733510227169 [%]\n",
      "precision: 93.64983164983165 +- 5.5688892129758765 [%]\n",
      "   recall: 93.33333333333333 +- 5.577733510227169 [%]\n",
      "       f1: 93.30984025720866 +- 5.591759514319502 [%]\n"
     ]
    }
   ],
   "source": [
    "metrics = [\" accuracy\", \"precision\", \"   recall\", \"       f1\"]\n",
    "\n",
    "print(\"\\nSVM scores (mean +- deviation)\")\n",
    "for score, metric in zip(SVM_scores, metrics):\n",
    "    print(f\"{metric}: {100*score.mean()} +- {100*score.std()} [%]\")\n",
    "\n",
    "print(\"\\nTREE scores (mean +- deviation)\")\n",
    "for score, metric in zip(TREE_scores, metrics):\n",
    "    print(f\"{metric}: {100*score.mean()} +- {100*score.std()} [%]\")"
   ]
  }
 ],
 "metadata": {
  "kernelspec": {
   "display_name": "Python 3",
   "language": "python",
   "name": "python3"
  },
  "language_info": {
   "codemirror_mode": {
    "name": "ipython",
    "version": 3
   },
   "file_extension": ".py",
   "mimetype": "text/x-python",
   "name": "python",
   "nbconvert_exporter": "python",
   "pygments_lexer": "ipython3",
   "version": "3.12.3"
  }
 },
 "nbformat": 4,
 "nbformat_minor": 2
}
