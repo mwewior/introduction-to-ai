{
 "cells": [
  {
   "cell_type": "code",
   "execution_count": 5,
   "metadata": {},
   "outputs": [],
   "source": [
    "import numpy as np\n",
    "from sklearn.datasets import load_iris\n",
    "import collections\n",
    "\n",
    "from src import dataset, naiveBayes"
   ]
  },
  {
   "cell_type": "code",
   "execution_count": 6,
   "metadata": {},
   "outputs": [],
   "source": [
    "features, target = load_iris(return_X_y=True)\n",
    "shapeDS = (features.shape[0], features.shape[1]+1)\n",
    "ds = np.zeros(shape=shapeDS)\n",
    "ds[:, 0:-1] = features\n",
    "ds[:, -1] = target\n",
    "\n",
    "shuffle = np.random.permutation(shapeDS[0])\n",
    "ds = ds[shuffle]\n",
    "\n"
   ]
  },
  {
   "cell_type": "code",
   "execution_count": 7,
   "metadata": {},
   "outputs": [
    {
     "name": "stdout",
     "output_type": "stream",
     "text": [
      "[[17.89487179  9.45641026 11.37948718  3.5974359 ]\n",
      " [17.89487179  9.45641026 11.37948718  3.5974359 ]\n",
      " [16.61666667  8.78095238 10.56666667  3.34047619]]\n",
      "[[2.10804657 1.03114591 1.60266445 0.55113688]\n",
      " [2.10804657 1.03114591 1.60266445 0.55113688]\n",
      " [1.82983591 0.8872157  1.41597544 0.49045998]]\n"
     ]
    }
   ],
   "source": [
    "ds = dataset.DataSetSKL()\n",
    "X = ds.features[0:120]\n",
    "y = ds.target[0:120]\n",
    "\n",
    "\n",
    "nb = naiveBayes.NaiveBayesClassificator()\n",
    "nb.fit(X, y)\n",
    "mu_hat = nb.mu\n",
    "sigma_hat = nb.sigma\n",
    "print(mu_hat)\n",
    "print(sigma_hat)\n",
    "# mu_hat_sq = np.sqrt(mu_hat)\n",
    "# print(mu_hat_sq)\n",
    "# mu_hat_2 = np.power(mu_hat_sq, 2)\n",
    "# print(mu_hat_2)"
   ]
  },
  {
   "cell_type": "code",
   "execution_count": 8,
   "metadata": {},
   "outputs": [
    {
     "ename": "TypeError",
     "evalue": "int() argument must be a string, a bytes-like object or a real number, not 'list'",
     "output_type": "error",
     "traceback": [
      "\u001b[0;31m---------------------------------------------------------------------------\u001b[0m",
      "\u001b[0;31mTypeError\u001b[0m                                 Traceback (most recent call last)",
      "Cell \u001b[0;32mIn[8], line 2\u001b[0m\n\u001b[1;32m      1\u001b[0m X[\u001b[38;5;241m2\u001b[39m, :]\n\u001b[0;32m----> 2\u001b[0m l \u001b[38;5;241m=\u001b[39m \u001b[38;5;28;43mint\u001b[39;49m\u001b[43m(\u001b[49m\u001b[38;5;28;43mlist\u001b[39;49m\u001b[43m(\u001b[49m\u001b[38;5;28;43mset\u001b[39;49m\u001b[43m(\u001b[49m\u001b[43m[\u001b[49m\u001b[38;5;241;43m0.0\u001b[39;49m\u001b[43m,\u001b[49m\u001b[43m \u001b[49m\u001b[38;5;241;43m1.0\u001b[39;49m\u001b[43m,\u001b[49m\u001b[43m \u001b[49m\u001b[38;5;241;43m2.0\u001b[39;49m\u001b[43m]\u001b[49m\u001b[43m)\u001b[49m\u001b[43m)\u001b[49m\u001b[43m)\u001b[49m\n\u001b[1;32m      3\u001b[0m l\n",
      "\u001b[0;31mTypeError\u001b[0m: int() argument must be a string, a bytes-like object or a real number, not 'list'"
     ]
    }
   ],
   "source": [
    "X[2, :]\n",
    "l = int(list(set([0.0, 1.0, 2.0])))\n",
    "l"
   ]
  }
 ],
 "metadata": {
  "kernelspec": {
   "display_name": "Python 3",
   "language": "python",
   "name": "python3"
  },
  "language_info": {
   "codemirror_mode": {
    "name": "ipython",
    "version": 3
   },
   "file_extension": ".py",
   "mimetype": "text/x-python",
   "name": "python",
   "nbconvert_exporter": "python",
   "pygments_lexer": "ipython3",
   "version": "3.12.3"
  }
 },
 "nbformat": 4,
 "nbformat_minor": 2
}
