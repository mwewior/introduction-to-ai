{
 "cells": [
  {
   "cell_type": "code",
   "execution_count": 1,
   "metadata": {},
   "outputs": [],
   "source": [
    "# import main_parallel\n",
    "# results = main_parallel.main()"
   ]
  },
  {
   "cell_type": "code",
   "execution_count": 6,
   "metadata": {},
   "outputs": [],
   "source": [
    "import main\n",
    "import numpy as np"
   ]
  },
  {
   "cell_type": "code",
   "execution_count": null,
   "metadata": {},
   "outputs": [],
   "source": [
    "seeds = [318407, 4062024, 19122020, 27112002, 99815612]\n",
    "\n",
    "all_results = []\n",
    "\n",
    "for s in seeds:\n",
    "    print(f\"\\n{s}\")\n",
    "    result = main.main(seed=s)\n",
    "    all_results.append(result)\n",
    "    print(result[\"moves\"][-100::])\n",
    "\n",
    "all_results"
   ]
  },
  {
   "cell_type": "code",
   "execution_count": 13,
   "metadata": {},
   "outputs": [],
   "source": [
    "all_rewards_count = []\n",
    "\n",
    "last_moves = []\n",
    "reward_moves_count = []\n",
    "\n",
    "for elem in all_results:\n",
    "\n",
    "    rewards = elem[\"rewards\"]\n",
    "    all_rewards_count.append(rewards)\n",
    "\n",
    "    moves = elem[\"moves\"][-100::]\n",
    "    last_moves.append(moves)\n",
    "    for m in moves:\n",
    "        if type(m) is int:\n",
    "            reward_moves_count.append(m)\n",
    "\n",
    "percentage_average_won = np.mean(all_rewards_count) / int(1e4)\n",
    "\n",
    "percentage_average_moves = len(reward_moves_count) / 500\n",
    "average_moves = np.mean(reward_moves_count)\n",
    "std_moves = np.std(reward_moves_count)\n",
    "\n",
    "stats = [{\n",
    "    \"procentowe_osiagniecie_celu\": percentage_average_won,\n",
    "    \"procentowe_os._celu_100_ostatnich\": percentage_average_moves,\n",
    "    \"średnia_liczba_ruchów\": average_moves,\n",
    "    \"odchylenie_liczby ruchów\": std_moves\n",
    "}]"
   ]
  }
 ],
 "metadata": {
  "kernelspec": {
   "display_name": "Python 3",
   "language": "python",
   "name": "python3"
  },
  "language_info": {
   "codemirror_mode": {
    "name": "ipython",
    "version": 3
   },
   "file_extension": ".py",
   "mimetype": "text/x-python",
   "name": "python",
   "nbconvert_exporter": "python",
   "pygments_lexer": "ipython3",
   "version": "3.12.3"
  }
 },
 "nbformat": 4,
 "nbformat_minor": 2
}
