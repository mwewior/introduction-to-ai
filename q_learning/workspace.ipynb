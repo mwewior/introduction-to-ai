{
 "cells": [
  {
   "cell_type": "markdown",
   "metadata": {},
   "source": [
    "# WSI ćwiczenie 6\n",
    "## QLearning\n",
    "\n",
    "Mikołaj Wewiór\n",
    "318407"
   ]
  },
  {
   "cell_type": "code",
   "execution_count": null,
   "metadata": {},
   "outputs": [],
   "source": [
    "# import main_parallel\n",
    "# results = main_parallel.main()"
   ]
  },
  {
   "cell_type": "code",
   "execution_count": null,
   "metadata": {},
   "outputs": [],
   "source": [
    "import main\n",
    "import numpy as np\n",
    "import matplotlib.pyplot as plt\n",
    "from QLearning import QL"
   ]
  },
  {
   "cell_type": "code",
   "execution_count": null,
   "metadata": {},
   "outputs": [],
   "source": [
    "def plotter(alpha: float = 0.1, gamma: float = 0.95, epsilon: float = 0.95):\n",
    "    Q = QL(\n",
    "        map_shape=(64, 4),\n",
    "        learning_rate=alpha,\n",
    "        discount=gamma,\n",
    "        policy=\"Eps-greedy\",  # Eps-greedy | Boltzman\n",
    "        eps=epsilon,\n",
    "        T=1,\n",
    "    )\n",
    "\n",
    "    s = 40620241\n",
    "    results = main.main(seed=s, Q=Q, isShown=False)\n",
    "\n",
    "    moves = results[\"moves\"]\n",
    "\n",
    "    last_moves = []\n",
    "    last_moves_achived = []\n",
    "\n",
    "    for m in moves:\n",
    "        if type(m) is int:\n",
    "            # reward_moves_count.append(m)\n",
    "            last_moves.append(m)\n",
    "            last_moves_achived.append(m)\n",
    "        else:\n",
    "            last_moves.append(0)\n",
    "\n",
    "    ydata = last_moves\n",
    "    xdata = list(range(1, len(ydata)+1))\n",
    "\n",
    "    plt.figure()\n",
    "    plt.grid(True)\n",
    "    plt.plot(xdata, ydata, '--')\n",
    "    plt.plot(xdata, ydata, '.')\n",
    "    # plt.title(f\"seed: {s}\")\n",
    "    plt.show()"
   ]
  },
  {
   "cell_type": "code",
   "execution_count": null,
   "metadata": {},
   "outputs": [],
   "source": [
    "# plotter(epsilon=0.99)"
   ]
  },
  {
   "cell_type": "code",
   "execution_count": null,
   "metadata": {},
   "outputs": [],
   "source": [
    "# plotter(epsilon=0.95)"
   ]
  },
  {
   "cell_type": "code",
   "execution_count": null,
   "metadata": {},
   "outputs": [],
   "source": [
    "# plotter(epsilon=0.9)"
   ]
  },
  {
   "cell_type": "code",
   "execution_count": null,
   "metadata": {},
   "outputs": [],
   "source": [
    "# plotter(epsilon=0.8)"
   ]
  },
  {
   "cell_type": "code",
   "execution_count": null,
   "metadata": {},
   "outputs": [],
   "source": [
    "# plotter(epsilon=0.7)"
   ]
  },
  {
   "cell_type": "code",
   "execution_count": null,
   "metadata": {},
   "outputs": [],
   "source": [
    "# plotter(epsilon=0.6)"
   ]
  },
  {
   "cell_type": "code",
   "execution_count": null,
   "metadata": {},
   "outputs": [],
   "source": [
    "stats = []"
   ]
  },
  {
   "cell_type": "code",
   "execution_count": null,
   "metadata": {},
   "outputs": [],
   "source": [
    "seeds = [318407, 4062024, 19122020, 27112002, 99815612]"
   ]
  },
  {
   "cell_type": "code",
   "execution_count": null,
   "metadata": {},
   "outputs": [],
   "source": [
    "all_results = []\n",
    "\n",
    "for s in seeds:\n",
    "    print(f\"\\n{s}\")\n",
    "    Q = QL(\n",
    "        map_shape=(64, 4),\n",
    "        learning_rate=0.1,\n",
    "        discount=0.95,\n",
    "        policy=\"Eps-greedy\",  # Eps-greedy | Boltzman\n",
    "        eps=0.95,\n",
    "        T=1,\n",
    "    )\n",
    "    result = main.main(seed=s, Q=Q)\n",
    "    all_results.append(result)\n",
    "    print(result[\"moves\"][-100::])\n",
    "\n",
    "# all_results"
   ]
  },
  {
   "cell_type": "code",
   "execution_count": null,
   "metadata": {},
   "outputs": [],
   "source": [
    "all_rewards_count = []\n",
    "\n",
    "last_moves = []\n",
    "last_moves_achived = []\n",
    "reward_moves_count = []\n",
    "\n",
    "for elem in all_results:\n",
    "\n",
    "    rewards = elem[\"rewards\"]\n",
    "    all_rewards_count.append(rewards)\n",
    "\n",
    "    moves = elem[\"moves_learn\"]  # [-100::]\n",
    "    last_moves.append([])\n",
    "    last_moves_achived.append([])\n",
    "    for m in moves:\n",
    "        if type(m) is int:\n",
    "            reward_moves_count.append(m)\n",
    "            last_moves[-1].append(m)\n",
    "            last_moves_achived[-1].append(m)\n",
    "        else:\n",
    "            last_moves[-1].append(0)\n",
    "\n",
    "percentage_average_won = np.mean(all_rewards_count) / int(1e4)\n",
    "\n",
    "percentage_average_moves = len(reward_moves_count) / 500\n",
    "average_moves = np.mean(reward_moves_count)\n",
    "std_moves = np.std(reward_moves_count)\n",
    "\n",
    "stats.append({\n",
    "    \"alpha\": all_results[0][\"alpha\"],\n",
    "    \"gamma\": all_results[0][\"gamma\"],\n",
    "    \"epsilon\": all_results[0][\"epsilon\"],\n",
    "    \"procentowe_osiagniecie_celu\": percentage_average_won,\n",
    "    \"procentowe_os._celu_100_ostatnich\": percentage_average_moves,\n",
    "    \"średnia_liczba_ruchów\": average_moves,\n",
    "    \"odchylenie_liczby ruchów\": std_moves\n",
    "})"
   ]
  },
  {
   "cell_type": "code",
   "execution_count": null,
   "metadata": {},
   "outputs": [],
   "source": [
    "xdata = list(range(1, len(last_moves[0])+1))\n",
    "\n",
    "for seed_moves, seed in zip(last_moves, seeds):\n",
    "    plt.figure()\n",
    "    plt.grid(True)\n",
    "    ydata = seed_moves\n",
    "    plt.plot(xdata, ydata, '--')\n",
    "    plt.plot(xdata, ydata, '.')\n",
    "    plt.title(f\"seed: {seed}\")"
   ]
  },
  {
   "cell_type": "code",
   "execution_count": null,
   "metadata": {},
   "outputs": [],
   "source": [
    "# stats.insert(0, base_stat)"
   ]
  }
 ],
 "metadata": {
  "kernelspec": {
   "display_name": "Python 3",
   "language": "python",
   "name": "python3"
  },
  "language_info": {
   "codemirror_mode": {
    "name": "ipython",
    "version": 3
   },
   "file_extension": ".py",
   "mimetype": "text/x-python",
   "name": "python",
   "nbconvert_exporter": "python",
   "pygments_lexer": "ipython3",
   "version": "3.12.3"
  }
 },
 "nbformat": 4,
 "nbformat_minor": 2
}
