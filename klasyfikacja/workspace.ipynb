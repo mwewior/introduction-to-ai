{
 "cells": [
  {
   "cell_type": "markdown",
   "metadata": {},
   "source": [
    "# [WSI] Ćwiczenie nr 4\n",
    "### Klasyfikator SVM oraz Drzewa Decyzyjne\n",
    "\n",
    "Mikołaj Wewiór 318407\n"
   ]
  },
  {
   "cell_type": "code",
   "execution_count": 1,
   "metadata": {},
   "outputs": [],
   "source": [
    "from ucimlrepo import fetch_ucirepo\n",
    "# import pprint\n",
    "import numpy as np\n",
    "np.random.seed(318407)\n",
    "\n",
    "# from sklearn.tree import DecisionTreeClassifier\n",
    "# from sklearn.svm import SVC\n",
    "\n",
    "K = 5"
   ]
  },
  {
   "cell_type": "code",
   "execution_count": null,
   "metadata": {},
   "outputs": [],
   "source": [
    "iris = fetch_ucirepo(id=53)\n",
    "dataset = iris.data\n",
    "\n",
    "original = dataset.original\n",
    "feature = dataset.features\n",
    "target = dataset.targets\n"
   ]
  },
  {
   "cell_type": "code",
   "execution_count": null,
   "metadata": {},
   "outputs": [],
   "source": [
    "print(target['class']) # [2])\n",
    "# target['class'][2] = \"abba\"\n",
    "# print(target['class'][2])\n",
    "# print(list(target['class']))\n",
    "\n",
    "\n",
    "\n"
   ]
  },
  {
   "cell_type": "code",
   "execution_count": null,
   "metadata": {},
   "outputs": [],
   "source": [
    "def convert(vector):\n",
    "    forward_dict = {\n",
    "        'Iris-setosa': 0,\n",
    "        'Iris-versicolor': 1,\n",
    "        'Iris-virginica': 2\n",
    "    }\n",
    "    backward_dict = {\n",
    "        0: 'Iris-setosa',\n",
    "        1: 'Iris-versicolor',\n",
    "        2: 'Iris-virginica'\n",
    "    }\n",
    "\n",
    "    output_vector = []\n",
    "    if type(vector[0]) is str:\n",
    "        for i in range(len(vector)):\n",
    "            translated_item = forward_dict[vector[i]]\n",
    "            output_vector.append(translated_item)\n",
    "            # vector.pop(0)\n",
    "    else:\n",
    "        for i in range(len(vector)):\n",
    "            translated_item = backward_dict[vector[i]]\n",
    "            output_vector.append(translated_item)\n",
    "            # vector.pop(0)\n",
    "    return output_vector\n",
    "\n"
   ]
  },
  {
   "cell_type": "code",
   "execution_count": null,
   "metadata": {},
   "outputs": [],
   "source": [
    "trans_target = convert(target['class'])"
   ]
  },
  {
   "cell_type": "code",
   "execution_count": null,
   "metadata": {},
   "outputs": [],
   "source": [
    "\n",
    "# print(target)\n",
    "target.loc[:, 'class'] = np.array(trans_target)\n",
    "\n",
    "print(target.loc[:, 'class'])\n"
   ]
  },
  {
   "cell_type": "code",
   "execution_count": null,
   "metadata": {},
   "outputs": [],
   "source": [
    "\n",
    "original.loc[:, 'class'] = np.array(trans_target)\n",
    "\n",
    "print(original)"
   ]
  },
  {
   "cell_type": "code",
   "execution_count": null,
   "metadata": {},
   "outputs": [],
   "source": [
    "shuffled = original.sample(frac=1)\n",
    "grouped_sets = np.array_split(shuffled, K)\n",
    "valid_group = grouped_sets.pop(-1)\n",
    "cross_group = grouped_sets\n",
    "\n",
    "print(cross_group)"
   ]
  },
  {
   "cell_type": "code",
   "execution_count": null,
   "metadata": {},
   "outputs": [],
   "source": [
    "# all = original.iloc[2]\n",
    "# print(all)\n",
    "# print(\"\\n\")\n",
    "# just_feature = feature.iloc[2]\n",
    "# print(just_feature)\n",
    "# print(\"\\n\")\n",
    "# just_type = target.iloc[2]\n",
    "# print(just_type)\n"
   ]
  },
  {
   "cell_type": "code",
   "execution_count": null,
   "metadata": {},
   "outputs": [],
   "source": [
    "forward_dict = {\n",
    "    1: 'a',\n",
    "    2: 'b',\n",
    "    3: 'c'\n",
    "}\n",
    "\n",
    "bakcward_dict = {\n",
    "    'a': 1,\n",
    "    'b': 2,\n",
    "    'c': 3\n",
    "}\n",
    "\n",
    "\n",
    "vect = [\n",
    "    1, 3, 3, 3, 2, 3, 1, 1, 2\n",
    "]\n",
    "\n",
    "def translate_dict(vector):\n",
    "    if type(vector[0]) is str:\n",
    "        for i in range(len(vector)):\n",
    "            translated_item = bakcward_dict[vector[0]]\n",
    "            vector.append(translated_item)\n",
    "            vector.pop(0)\n",
    "    else:\n",
    "        for i in range(len(vector)):\n",
    "            translated_item = forward_dict[vector[0]]\n",
    "            vector.append(translated_item)\n",
    "            vector.pop(0)\n",
    "    return vector\n",
    "\n",
    "print(translate_dict(translate_dict(vect)))"
   ]
  },
  {
   "cell_type": "code",
   "execution_count": null,
   "metadata": {},
   "outputs": [],
   "source": [
    "from sklearn.svm import SVC\n",
    "from sklearn.datasets import load_iris\n",
    "iris = load_iris()\n",
    "\n",
    "irisData = iris.data\n",
    "irisTarget = iris.target\n",
    "\n",
    "clfSVM = SVC(\n",
    "    C=1, kernel=\"linear\", tol=10e-16  # , max_iter=int(10e4)\n",
    ")\n",
    "\n",
    "\n",
    "\"\"\"\n",
    "czyli teraz tak:\n",
    "\n",
    "muszę stworzyć kros-walidację\n",
    "pewnie jakaś pętla\n",
    "potem tworzę tak jak poniżej\n",
    "i badanie na koniec dla testowych/walidacyjnych\n",
    "\n",
    "\"\"\"\n"
   ]
  },
  {
   "cell_type": "markdown",
   "metadata": {},
   "source": [
    "ChatGPT"
   ]
  },
  {
   "cell_type": "code",
   "execution_count": null,
   "metadata": {},
   "outputs": [],
   "source": [
    "from sklearn.svm import SVC\n",
    "from sklearn.datasets import load_iris\n",
    "from sklearn.model_selection import train_test_split\n",
    "from sklearn.metrics import accuracy_score\n",
    "\n",
    "# Load the iris dataset\n",
    "iris = load_iris()\n",
    "\n",
    "# Separate the features (irisData) and the target labels (irisTarget)\n",
    "irisData = iris.data\n",
    "irisTarget = iris.target\n",
    "\n",
    "# Split the data into training and testing sets\n",
    "X_train, X_test, y_train, y_test = train_test_split(irisData, irisTarget, test_size=0.2, random_state=42)\n",
    "\n",
    "# Create an SVC classifier\n",
    "clfSVM = SVC(C=1, kernel=\"linear\", tol=1e-16)\n",
    "\n",
    "# Train the classifier on the training data\n",
    "clfSVM.fit(X_train, y_train)\n",
    "\n",
    "# Predict the labels for the test set\n",
    "y_pred = clfSVM.predict(X_test)\n",
    "\n",
    "# Calculate the accuracy of the classifier\n",
    "accuracy = accuracy_score(y_test, y_pred)\n",
    "print(\"Accuracy:\", accuracy)\n"
   ]
  },
  {
   "cell_type": "code",
   "execution_count": 4,
   "metadata": {},
   "outputs": [],
   "source": [
    "from src.dataset import DataSet"
   ]
  },
  {
   "cell_type": "code",
   "execution_count": 5,
   "metadata": {},
   "outputs": [],
   "source": [
    "ds = DataSet(K=5)"
   ]
  },
  {
   "cell_type": "code",
   "execution_count": 4,
   "metadata": {},
   "outputs": [
    {
     "name": "stdout",
     "output_type": "stream",
     "text": [
      "[3.266666666666667, 1.3514287518464438]\n",
      "[3.2666666666666666, 2.048305532764962]\n"
     ]
    }
   ],
   "source": [
    "import numpy as np\n",
    "\n",
    "list1 = [ 1, 2, 5, 7, 8]\n",
    "list2 = [ 2, 2, 2, 2, 2]\n",
    "list3 = [ 3, 4, 3, 1, 5]\n",
    "\n",
    "listAll = list1 + list2 + list3\n",
    "\n",
    "solos = [\n",
    "    np.mean([np.mean(list1), np.mean(list2), np.mean(list3)]),\n",
    "    np.mean([np.std(list1), np.std(list2), np.std(list3)])\n",
    "]\n",
    "\n",
    "all = [\n",
    "    np.mean(listAll),\n",
    "    np.std(listAll)\n",
    "]\n",
    "\n",
    "print(solos)\n",
    "print(all)"
   ]
  }
 ],
 "metadata": {
  "kernelspec": {
   "display_name": "Python 3",
   "language": "python",
   "name": "python3"
  },
  "language_info": {
   "codemirror_mode": {
    "name": "ipython",
    "version": 3
   },
   "file_extension": ".py",
   "mimetype": "text/x-python",
   "name": "python",
   "nbconvert_exporter": "python",
   "pygments_lexer": "ipython3",
   "version": "3.8.10"
  }
 },
 "nbformat": 4,
 "nbformat_minor": 2
}
