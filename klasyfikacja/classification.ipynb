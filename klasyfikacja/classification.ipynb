{
 "cells": [
  {
   "cell_type": "markdown",
   "metadata": {},
   "source": [
    "# [WSI] Ćwiczenie nr 4\n",
    "### Klasyfikator SVM oraz Drzewa Decyzyjne\n",
    "\n",
    "Mikołaj Wewiór 318407\n"
   ]
  },
  {
   "cell_type": "code",
   "execution_count": 34,
   "metadata": {},
   "outputs": [],
   "source": [
    "from ucimlrepo import fetch_ucirepo\n",
    "# import pprint\n",
    "import numpy as np\n",
    "np.random.seed(318407)\n",
    "\n",
    "# from sklearn.tree import DecisionTreeClassifier\n",
    "# from sklearn.svm import SVC\n",
    "\n",
    "K = 5"
   ]
  },
  {
   "cell_type": "code",
   "execution_count": 35,
   "metadata": {},
   "outputs": [],
   "source": [
    "iris = fetch_ucirepo(id=53)\n",
    "dataset = iris.data\n",
    "\n",
    "original = dataset.original\n",
    "feature = dataset.features\n",
    "target = dataset.targets\n",
    "\n",
    "# print(original)"
   ]
  },
  {
   "cell_type": "code",
   "execution_count": 38,
   "metadata": {},
   "outputs": [],
   "source": [
    "shuffled = original.sample(frac=1)\n",
    "grouped_sets = np.array_split(shuffled, K)\n",
    "valid_group = grouped_sets.pop(-1)\n",
    "cross_group = grouped_sets"
   ]
  },
  {
   "cell_type": "code",
   "execution_count": 37,
   "metadata": {},
   "outputs": [],
   "source": [
    "# all = original.iloc[2]\n",
    "# print(all)\n",
    "# print(\"\\n\")\n",
    "# just_feature = feature.iloc[2]\n",
    "# print(just_feature)\n",
    "# print(\"\\n\")\n",
    "# just_type = target.iloc[2]\n",
    "# print(just_type)\n"
   ]
  }
 ],
 "metadata": {
  "kernelspec": {
   "display_name": "Python 3",
   "language": "python",
   "name": "python3"
  },
  "language_info": {
   "codemirror_mode": {
    "name": "ipython",
    "version": 3
   },
   "file_extension": ".py",
   "mimetype": "text/x-python",
   "name": "python",
   "nbconvert_exporter": "python",
   "pygments_lexer": "ipython3",
   "version": "3.8.10"
  }
 },
 "nbformat": 4,
 "nbformat_minor": 2
}
