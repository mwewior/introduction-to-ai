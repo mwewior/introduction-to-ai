{
 "cells": [
  {
   "cell_type": "code",
   "execution_count": 1,
   "metadata": {},
   "outputs": [
    {
     "name": "stdout",
     "output_type": "stream",
     "text": [
      "318407\n"
     ]
    }
   ],
   "source": [
    "from sklearn.tree import DecisionTreeClassifier\n",
    "from sklearn.svm import SVC\n",
    "from src.classifier import classification\n",
    "import yaml\n",
    "import numpy as np\n",
    "from copy import deepcopy\n",
    "\n",
    "\n",
    "def loadParams(file_path: str = \"/home/wewiormik/wsi/klasyfikacja/parameters.yaml\"):  # \"../parameters.yaml\"):  # noqa\n",
    "    with open(file_path, 'r') as f:\n",
    "        parameters = yaml.load(f, Loader=yaml.FullLoader)\n",
    "    return parameters\n",
    "\n",
    "\n",
    "params = loadParams()\n",
    "FOLDS = params[\"FOLDS\"]\n",
    "DIGITS = params[\"DIGITS\"]\n",
    "SEED = params[\"SEED\"]\n",
    "\n",
    "print(SEED)"
   ]
  },
  {
   "cell_type": "markdown",
   "metadata": {},
   "source": [
    "## Entropy"
   ]
  },
  {
   "cell_type": "code",
   "execution_count": 2,
   "metadata": {},
   "outputs": [],
   "source": [
    "clfTreeEntBest5 = DecisionTreeClassifier(\n",
    "    criterion=\"entropy\", splitter=\"best\", max_depth=5, random_state=SEED\n",
    ")\n",
    "clfTreeEntBest4 = DecisionTreeClassifier(\n",
    "    criterion=\"entropy\", splitter=\"best\", max_depth=4, random_state=SEED\n",
    ")\n",
    "clfTreeEntBest3 = DecisionTreeClassifier(\n",
    "    criterion=\"entropy\", splitter=\"best\", max_depth=3, random_state=SEED\n",
    ")\n",
    "clfTreeEntBest2 = DecisionTreeClassifier(\n",
    "    criterion=\"entropy\", splitter=\"best\", max_depth=2, random_state=SEED\n",
    ")\n",
    "clfTreeEntBest1 = DecisionTreeClassifier(\n",
    "    criterion=\"entropy\", splitter=\"best\", max_depth=1, random_state=SEED\n",
    ")\n",
    "\n",
    "clfTreeEntRand5 = DecisionTreeClassifier(\n",
    "    criterion=\"entropy\", splitter=\"random\", max_depth=5, random_state=SEED\n",
    ")\n",
    "clfTreeEntRand4 = DecisionTreeClassifier(\n",
    "    criterion=\"entropy\", splitter=\"random\", max_depth=4, random_state=SEED\n",
    ")\n",
    "clfTreeEntRand3 = DecisionTreeClassifier(\n",
    "    criterion=\"entropy\", splitter=\"random\", max_depth=3, random_state=SEED\n",
    ")\n",
    "clfTreeEntRand2 = DecisionTreeClassifier(\n",
    "    criterion=\"entropy\", splitter=\"random\", max_depth=2, random_state=SEED\n",
    ")\n",
    "clfTreeEntRand1 = DecisionTreeClassifier(\n",
    "    criterion=\"entropy\", splitter=\"random\", max_depth=1, random_state=SEED\n",
    ")\n"
   ]
  },
  {
   "cell_type": "markdown",
   "metadata": {},
   "source": [
    "## Gini"
   ]
  },
  {
   "cell_type": "code",
   "execution_count": 3,
   "metadata": {},
   "outputs": [],
   "source": [
    "clfTreeGinBest5 = DecisionTreeClassifier(\n",
    "    criterion=\"gini\", splitter=\"best\", max_depth=5, random_state=SEED\n",
    ")\n",
    "clfTreeGinBest4 = DecisionTreeClassifier(\n",
    "    criterion=\"gini\", splitter=\"best\", max_depth=4, random_state=SEED\n",
    ")\n",
    "clfTreeGinBest3 = DecisionTreeClassifier(\n",
    "    criterion=\"gini\", splitter=\"best\", max_depth=3, random_state=SEED\n",
    ")\n",
    "clfTreeGinBest2 = DecisionTreeClassifier(\n",
    "    criterion=\"gini\", splitter=\"best\", max_depth=2, random_state=SEED\n",
    ")\n",
    "clfTreeGinBest1 = DecisionTreeClassifier(\n",
    "    criterion=\"gini\", splitter=\"best\", max_depth=1, random_state=SEED\n",
    ")\n",
    "\n",
    "clfTreeGinRand5 = DecisionTreeClassifier(\n",
    "    criterion=\"gini\", splitter=\"random\", max_depth=5, random_state=SEED\n",
    ")\n",
    "clfTreeGinRand4 = DecisionTreeClassifier(\n",
    "    criterion=\"gini\", splitter=\"random\", max_depth=4, random_state=SEED\n",
    ")\n",
    "clfTreeGinRand3 = DecisionTreeClassifier(\n",
    "    criterion=\"gini\", splitter=\"random\", max_depth=3, random_state=SEED\n",
    ")\n",
    "clfTreeGinRand2 = DecisionTreeClassifier(\n",
    "    criterion=\"gini\", splitter=\"random\", max_depth=2, random_state=SEED\n",
    ")\n",
    "clfTreeGinRand1 = DecisionTreeClassifier(\n",
    "    criterion=\"gini\", splitter=\"random\", max_depth=1, random_state=SEED\n",
    ")"
   ]
  },
  {
   "cell_type": "markdown",
   "metadata": {},
   "source": [
    "## Log-loss"
   ]
  },
  {
   "cell_type": "code",
   "execution_count": 4,
   "metadata": {},
   "outputs": [],
   "source": [
    "clfTreeLogBest5 = DecisionTreeClassifier(\n",
    "    criterion=\"log_loss\", splitter=\"best\", max_depth=5, random_state=SEED\n",
    ")\n",
    "clfTreeLogBest4 = DecisionTreeClassifier(\n",
    "    criterion=\"log_loss\", splitter=\"best\", max_depth=4, random_state=SEED\n",
    ")\n",
    "clfTreeLogBest3 = DecisionTreeClassifier(\n",
    "    criterion=\"log_loss\", splitter=\"best\", max_depth=3, random_state=SEED\n",
    ")\n",
    "clfTreeLogBest2 = DecisionTreeClassifier(\n",
    "    criterion=\"log_loss\", splitter=\"best\", max_depth=2, random_state=SEED\n",
    ")\n",
    "clfTreeLogBest1 = DecisionTreeClassifier(\n",
    "    criterion=\"log_loss\", splitter=\"best\", max_depth=1, random_state=SEED\n",
    ")\n",
    "\n",
    "clfTreeLogRand5 = DecisionTreeClassifier(\n",
    "    criterion=\"log_loss\", splitter=\"random\", max_depth=5, random_state=SEED\n",
    ")\n",
    "clfTreeLogRand4 = DecisionTreeClassifier(\n",
    "    criterion=\"log_loss\", splitter=\"random\", max_depth=4, random_state=SEED\n",
    ")\n",
    "clfTreeLogRand3 = DecisionTreeClassifier(\n",
    "    criterion=\"log_loss\", splitter=\"random\", max_depth=3, random_state=SEED\n",
    ")\n",
    "clfTreeLogRand2 = DecisionTreeClassifier(\n",
    "    criterion=\"log_loss\", splitter=\"random\", max_depth=2, random_state=SEED\n",
    ")\n",
    "clfTreeLogRand1 = DecisionTreeClassifier(\n",
    "    criterion=\"log_loss\", splitter=\"random\", max_depth=1, random_state=SEED\n",
    ")"
   ]
  },
  {
   "cell_type": "code",
   "execution_count": 5,
   "metadata": {},
   "outputs": [],
   "source": [
    "TreeEntBest5 = classification(clf = clfTreeEntBest5)\n",
    "TreeEntBest4 = classification(clf = clfTreeEntBest4)\n",
    "TreeEntBest3 = classification(clf = clfTreeEntBest3)\n",
    "TreeEntBest2 = classification(clf = clfTreeEntBest2)\n",
    "TreeEntBest1 = classification(clf = clfTreeEntBest1)\n",
    "\n",
    "TreeEntRand5 = classification(clf = clfTreeEntRand5)\n",
    "TreeEntRand4 = classification(clf = clfTreeEntRand4)\n",
    "TreeEntRand3 = classification(clf = clfTreeEntRand3)\n",
    "TreeEntRand2 = classification(clf = clfTreeEntRand2)\n",
    "TreeEntRand1 = classification(clf = clfTreeEntRand1)"
   ]
  },
  {
   "cell_type": "code",
   "execution_count": 6,
   "metadata": {},
   "outputs": [],
   "source": [
    "TreeGinBest5 = classification(clf = clfTreeGinBest5)\n",
    "TreeGinBest4 = classification(clf = clfTreeGinBest4)\n",
    "TreeGinBest3 = classification(clf = clfTreeGinBest3)\n",
    "TreeGinBest2 = classification(clf = clfTreeGinBest2)\n",
    "TreeGinBest1 = classification(clf = clfTreeGinBest1)\n",
    "\n",
    "TreeGinRand5 = classification(clf = clfTreeGinRand5)\n",
    "TreeGinRand4 = classification(clf = clfTreeGinRand4)\n",
    "TreeGinRand3 = classification(clf = clfTreeGinRand3)\n",
    "TreeGinRand2 = classification(clf = clfTreeGinRand2)\n",
    "TreeGinRand1 = classification(clf = clfTreeGinRand1)"
   ]
  },
  {
   "cell_type": "code",
   "execution_count": 7,
   "metadata": {},
   "outputs": [],
   "source": [
    "TreeLogBest5 = classification(clf = clfTreeLogBest5)\n",
    "TreeLogBest4 = classification(clf = clfTreeLogBest4)\n",
    "TreeLogBest3 = classification(clf = clfTreeLogBest3)\n",
    "TreeLogBest2 = classification(clf = clfTreeLogBest2)\n",
    "TreeLogBest1 = classification(clf = clfTreeLogBest1)\n",
    "\n",
    "TreeLogRand5 = classification(clf = clfTreeLogRand5)\n",
    "TreeLogRand4 = classification(clf = clfTreeLogRand4)\n",
    "TreeLogRand3 = classification(clf = clfTreeLogRand3)\n",
    "TreeLogRand2 = classification(clf = clfTreeLogRand2)\n",
    "TreeLogRand1 = classification(clf = clfTreeLogRand1)"
   ]
  },
  {
   "cell_type": "markdown",
   "metadata": {},
   "source": [
    "## Criterion"
   ]
  },
  {
   "cell_type": "code",
   "execution_count": 8,
   "metadata": {},
   "outputs": [],
   "source": [
    "Logs = [\n",
    "    TreeLogBest1,\n",
    "    TreeLogBest2,\n",
    "    TreeLogBest3,\n",
    "    TreeLogBest4,\n",
    "    TreeLogBest4,\n",
    "    TreeLogBest5,\n",
    "    TreeLogRand1,\n",
    "    TreeLogRand2,\n",
    "    TreeLogRand3,\n",
    "    TreeLogRand4,\n",
    "    TreeLogRand5\n",
    "]\n",
    "\n",
    "Gins = [\n",
    "    TreeGinBest1,\n",
    "    TreeGinBest2,\n",
    "    TreeGinBest3,\n",
    "    TreeGinBest4,\n",
    "    TreeGinBest4,\n",
    "    TreeGinBest5,\n",
    "    TreeGinRand1,\n",
    "    TreeGinRand2,\n",
    "    TreeGinRand3,\n",
    "    TreeGinRand4,\n",
    "    TreeGinRand5\n",
    "]\n",
    "\n",
    "Ents = [\n",
    "    TreeEntBest1,\n",
    "    TreeEntBest2,\n",
    "    TreeEntBest3,\n",
    "    TreeEntBest4,\n",
    "    TreeEntBest4,\n",
    "    TreeEntBest5,\n",
    "    TreeEntRand1,\n",
    "    TreeEntRand2,\n",
    "    TreeEntRand3,\n",
    "    TreeEntRand4,\n",
    "    TreeEntRand5\n",
    "]"
   ]
  },
  {
   "cell_type": "code",
   "execution_count": 9,
   "metadata": {},
   "outputs": [
    {
     "name": "stdout",
     "output_type": "stream",
     "text": [
      "\n",
      "\n",
      "entropy\n",
      "accuracy : {'mean': 0.9151515151515152, 'std': 0.12146438396410034}\n",
      "precision : {'mean': 0.8487980268626754, 'std': 0.26803283312056825}\n",
      "recall : {'mean': 0.8830961967325603, 'std': 0.24229418634120078}\n",
      "F1 : {'mean': 0.8531703700825258, 'std': 0.2455765523235057}\n",
      "\n",
      "\n",
      "Gini\n",
      "accuracy : {'mean': 0.9159595959595961, 'std': 0.12614928245993562}\n",
      "precision : {'mean': 0.8530206928621251, 'std': 0.26570389547716744}\n",
      "recall : {'mean': 0.8829105742742106, 'std': 0.2459047149288858}\n",
      "F1 : {'mean': 0.855596043420859, 'std': 0.2459151757041744}\n",
      "\n",
      "\n",
      "Log loss\n",
      "accuracy : {'mean': 0.913939393939394, 'std': 0.12385897961777308}\n",
      "precision : {'mean': 0.8516684518395564, 'std': 0.2663373113335726}\n",
      "recall : {'mean': 0.8825626814263177, 'std': 0.2455516304050604}\n",
      "F1 : {'mean': 0.8545986239009632, 'std': 0.24516929713717783}\n"
     ]
    }
   ],
   "source": [
    "# Criterions\n",
    "\n",
    "single_dict = {\n",
    "    'accuracy': [],\n",
    "    'precision': [],\n",
    "    'recall': [],\n",
    "    'F1': []\n",
    "}\n",
    "\n",
    "def tableMaker(compareList, text=\"\"):\n",
    "    print('\\n')\n",
    "    this = {}\n",
    "    compare_data = deepcopy(single_dict)\n",
    "    for clf in compareList:\n",
    "        for param in clf:\n",
    "            compare_data[param] += clf[param][\"data\"]\n",
    "    print(text)\n",
    "    for param in compare_data:\n",
    "        this[param] = {}\n",
    "        this[param][\"mean\"] = np.mean(compare_data[param])\n",
    "        this[param][\"std\"] = np.std(compare_data[param])\n",
    "        print(f'{param} : {this[param]}')\n",
    "\n",
    "tableMaker(Ents, text=\"entropy\")\n",
    "tableMaker(Gins, text=\"Gini\")\n",
    "tableMaker(Logs, text=\"Log loss\")\n",
    "\n",
    "# ent = {}\n",
    "# entropy_data = deepcopy(single_dict)\n",
    "# for clf in Ents:\n",
    "#     for param in clf:\n",
    "#         entropy_data[param] += clf[param][\"data\"]\n",
    "# print('\\nentropy')\n",
    "# for param in entropy_data:\n",
    "#     ent[param] = {}\n",
    "#     ent[param][\"mean\"] = np.mean(entropy_data[param])\n",
    "#     ent[param][\"std\"] = np.std(entropy_data[param])\n",
    "#     print(f'{param} : {ent[param]}')\n",
    "\n",
    "\n",
    "# gin = {}\n",
    "# gini_data = deepcopy(single_dict)\n",
    "# for clf in Gins:\n",
    "#     for param in clf:\n",
    "#         gini_data[param] += clf[param][\"data\"]\n",
    "# print('\\ngini')\n",
    "# for param in gini_data:\n",
    "#     gin[param] = {}\n",
    "#     gin[param][\"mean\"] = np.mean(gini_data[param])\n",
    "#     gin[param][\"std\"] = np.std(gini_data[param])\n",
    "#     print(f'{param} : {gin[param]}')\n",
    "\n",
    "# log = {}\n",
    "# log_data = deepcopy(single_dict)\n",
    "# for clf in Logs:\n",
    "#     for param in clf:\n",
    "#         log_data[param] += clf[param][\"data\"]\n",
    "# print('\\nlog_loss')\n",
    "# for param in log_data:\n",
    "#     log[param] = {}\n",
    "#     log[param][\"mean\"] = np.mean(log_data[param])\n",
    "#     log[param][\"std\"] = np.std(log_data[param])\n",
    "#     print(f'{param} : {log[param]}')\n",
    "\n"
   ]
  },
  {
   "cell_type": "markdown",
   "metadata": {},
   "source": [
    "## Splitter"
   ]
  },
  {
   "cell_type": "code",
   "execution_count": 10,
   "metadata": {},
   "outputs": [],
   "source": [
    "Bests = [\n",
    "    TreeLogBest1,\n",
    "    TreeLogBest2,\n",
    "    TreeLogBest3,\n",
    "    TreeLogBest4,\n",
    "    TreeLogBest4,\n",
    "    TreeLogBest5,\n",
    "    TreeGinBest1,\n",
    "    TreeGinBest2,\n",
    "    TreeGinBest3,\n",
    "    TreeGinBest4,\n",
    "    TreeGinBest4,\n",
    "    TreeGinBest5,\n",
    "    TreeEntBest1,\n",
    "    TreeEntBest2,\n",
    "    TreeEntBest3,\n",
    "    TreeEntBest4,\n",
    "    TreeEntBest4,\n",
    "    TreeEntBest5,\n",
    "]\n",
    "\n",
    "Rands = [\n",
    "    TreeLogRand1,\n",
    "    TreeLogRand2,\n",
    "    TreeLogRand3,\n",
    "    TreeLogRand4,\n",
    "    TreeLogRand4,\n",
    "    TreeLogRand5,\n",
    "    TreeGinRand1,\n",
    "    TreeGinRand2,\n",
    "    TreeGinRand3,\n",
    "    TreeGinRand4,\n",
    "    TreeGinRand4,\n",
    "    TreeGinRand5,\n",
    "    TreeEntRand1,\n",
    "    TreeEntRand2,\n",
    "    TreeEntRand3,\n",
    "    TreeEntRand4,\n",
    "    TreeEntRand4,\n",
    "    TreeEntRand5,\n",
    "]"
   ]
  },
  {
   "cell_type": "code",
   "execution_count": 11,
   "metadata": {},
   "outputs": [
    {
     "name": "stdout",
     "output_type": "stream",
     "text": [
      "\n",
      "\n",
      "Best\n",
      "accuracy : {'mean': 0.9271604938271606, 'std': 0.11871639859442076}\n",
      "precision : {'mean': 0.8687968227240749, 'std': 0.25358267231315024}\n",
      "recall : {'mean': 0.8990688735133179, 'std': 0.23011659378905505}\n",
      "F1 : {'mean': 0.8752034417925717, 'std': 0.23552155703692107}\n",
      "\n",
      "\n",
      "Random\n",
      "accuracy : {'mean': 0.9054320987654322, 'std': 0.12043866375409062}\n",
      "precision : {'mean': 0.8435321767632045, 'std': 0.2625610831773123}\n",
      "recall : {'mean': 0.8702569858125413, 'std': 0.24373441507370494}\n",
      "F1 : {'mean': 0.8404757364444684, 'std': 0.2370096678067017}\n"
     ]
    }
   ],
   "source": [
    "# splitters\n",
    "\n",
    "tableMaker(Bests, text=\"Best\")\n",
    "tableMaker(Rands, text=\"Random\")"
   ]
  },
  {
   "cell_type": "markdown",
   "metadata": {},
   "source": [
    "## Max depth"
   ]
  },
  {
   "cell_type": "code",
   "execution_count": 12,
   "metadata": {},
   "outputs": [],
   "source": [
    "\n",
    "Ones = [\n",
    "    TreeEntBest1,\n",
    "    TreeEntRand1,\n",
    "    TreeGinBest1,\n",
    "    TreeGinRand1,\n",
    "    TreeLogBest1,\n",
    "    TreeLogRand1\n",
    "]\n",
    "\n",
    "Twos = [\n",
    "    TreeEntBest2,\n",
    "    TreeEntRand2,\n",
    "    TreeGinBest2,\n",
    "    TreeGinRand2,\n",
    "    TreeLogBest2,\n",
    "    TreeLogRand2\n",
    "]\n",
    "\n",
    "Threes = [\n",
    "    TreeEntBest3,\n",
    "    TreeEntRand3,\n",
    "    TreeGinBest3,\n",
    "    TreeGinRand3,\n",
    "    TreeLogBest3,\n",
    "    TreeLogRand3\n",
    "]\n",
    "\n",
    "Fours = [\n",
    "    TreeEntBest4,\n",
    "    TreeEntRand4,\n",
    "    TreeGinBest4,\n",
    "    TreeGinRand4,\n",
    "    TreeLogBest4,\n",
    "    TreeLogRand4\n",
    "]\n",
    "\n",
    "Fives = [\n",
    "    TreeEntBest5,\n",
    "    TreeEntRand5,\n",
    "    TreeGinBest5,\n",
    "    TreeGinRand5,\n",
    "    TreeLogBest5,\n",
    "    TreeLogRand5\n",
    "]"
   ]
  },
  {
   "cell_type": "code",
   "execution_count": 18,
   "metadata": {},
   "outputs": [
    {
     "name": "stdout",
     "output_type": "stream",
     "text": [
      "\n",
      "\n",
      "Ones\n",
      "accuracy : {'mean': 0.7407407407407406, 'std': 0.1882851644580817}\n",
      "precision : {'mean': 0.47193544507695145, 'std': 0.41129890471940617}\n",
      "recall : {'mean': 0.6666666666666666, 'std': 0.4714045207910317}\n",
      "F1 : {'mean': 0.5284658218193627, 'std': 0.4113794848937567}\n",
      "\n",
      "\n",
      "Twos\n",
      "accuracy : {'mean': 0.9422222222222221, 'std': 0.05769224438109852}\n",
      "precision : {'mean': 0.9256653531653533, 'std': 0.10692793756572537}\n",
      "recall : {'mean': 0.9127450327450327, 'std': 0.12598414499283306}\n",
      "F1 : {'mean': 0.9103799406906172, 'std': 0.0916072359051193}\n",
      "\n",
      "\n",
      "Threes\n",
      "accuracy : {'mean': 0.9511111111111112, 'std': 0.05286834334831252}\n",
      "precision : {'mean': 0.9268849977183311, 'std': 0.12707934917277453}\n",
      "recall : {'mean': 0.9286355928022595, 'std': 0.10938496595943152}\n",
      "F1 : {'mean': 0.9184397423121337, 'std': 0.10090368520339403}\n",
      "\n",
      "\n",
      "Fours\n",
      "accuracy : {'mean': 0.9496296296296298, 'std': 0.05516405262788404}\n",
      "precision : {'mean': 0.9323619590286256, 'std': 0.1025318109490198}\n",
      "recall : {'mean': 0.9285688231521565, 'std': 0.1086231916801495}\n",
      "F1 : {'mean': 0.9232911505170224, 'std': 0.08171698814532372}\n",
      "\n",
      "\n",
      "Fives\n",
      "accuracy : {'mean': 0.9644444444444445, 'std': 0.039999999999999994}\n",
      "precision : {'mean': 0.947777284443951, 'std': 0.07376398582748116}\n",
      "recall : {'mean': 0.9427926394593061, 'std': 0.08478880255439837}\n",
      "F1 : {'mean': 0.9431697288549629, 'std': 0.06935513818672673}\n"
     ]
    }
   ],
   "source": [
    "\n",
    "tableMaker(Ones, text=\"Ones\")\n",
    "tableMaker(Twos, text=\"Twos\")\n",
    "tableMaker(Threes, text=\"Threes\")\n",
    "tableMaker(Fours, text=\"Fours\")\n",
    "tableMaker(Fives, text=\"Fives\")"
   ]
  },
  {
   "cell_type": "markdown",
   "metadata": {},
   "source": [
    "# SVM"
   ]
  },
  {
   "cell_type": "markdown",
   "metadata": {},
   "source": [
    "## Linear"
   ]
  },
  {
   "cell_type": "code",
   "execution_count": 13,
   "metadata": {},
   "outputs": [],
   "source": [
    "clfSVMC05Lin10e6 = SVC(\n",
    "    C=0.5, kernel=\"linear\", tol=10e-16, max_iter=int(10e6), random_state=SEED\n",
    ")\n",
    "clfSVMC1Lin10e6 = SVC(\n",
    "    C=1, kernel=\"linear\", tol=10e-16, max_iter=int(10e6), random_state=SEED\n",
    ")\n",
    "clfSVMC2Lin10e6 = SVC(\n",
    "    C=2, kernel=\"linear\", tol=10e-16, max_iter=int(10e6), random_state=SEED\n",
    ")\n",
    "clfSVMC5Lin10e6 = SVC(\n",
    "    C=5, kernel=\"linear\", tol=10e-16, max_iter=int(10e6), random_state=SEED\n",
    ")\n",
    "clfSVMC10Lin10e6 = SVC(\n",
    "    C=10, kernel=\"linear\", tol=10e-16, max_iter=int(10e6), random_state=SEED\n",
    ")\n"
   ]
  },
  {
   "cell_type": "markdown",
   "metadata": {},
   "source": [
    "## Poly"
   ]
  },
  {
   "cell_type": "code",
   "execution_count": 14,
   "metadata": {},
   "outputs": [],
   "source": [
    "clfSVMC05Poly10e6 = SVC(\n",
    "    C=0.5, kernel=\"poly\", tol=10e-16, max_iter=int(10e6), random_state=SEED\n",
    ")\n",
    "clfSVMC1Poly10e6 = SVC(\n",
    "    C=1, kernel=\"poly\", tol=10e-16, max_iter=int(10e6), random_state=SEED\n",
    ")\n",
    "clfSVMC2Poly10e6 = SVC(\n",
    "    C=2, kernel=\"poly\", tol=10e-16, max_iter=int(10e6), random_state=SEED\n",
    ")\n",
    "clfSVMC5Poly10e6 = SVC(\n",
    "    C=5, kernel=\"poly\", tol=10e-16, max_iter=int(10e6), random_state=SEED\n",
    ")\n",
    "clfSVMC10Poly10e6 = SVC(\n",
    "    C=10, kernel=\"poly\", tol=10e-16, max_iter=int(10e6), random_state=SEED\n",
    ")"
   ]
  },
  {
   "cell_type": "markdown",
   "metadata": {},
   "source": [
    "## RBF"
   ]
  },
  {
   "cell_type": "code",
   "execution_count": 15,
   "metadata": {},
   "outputs": [],
   "source": [
    "clfSVMC05Rbf10e6 = SVC(\n",
    "    C=0.5, kernel=\"rbf\", tol=10e-16, max_iter=int(10e6), random_state=SEED\n",
    ")\n",
    "clfSVMC1Rbf10e6 = SVC(\n",
    "    C=1, kernel=\"rbf\", tol=10e-16, max_iter=int(10e6), random_state=SEED\n",
    ")\n",
    "clfSVMC2Rbf10e6 = SVC(\n",
    "    C=2, kernel=\"rbf\", tol=10e-16, max_iter=int(10e6), random_state=SEED\n",
    ")\n",
    "clfSVMC5Rbf10e6 = SVC(\n",
    "    C=5, kernel=\"rbf\", tol=10e-16, max_iter=int(10e6), random_state=SEED\n",
    ")\n",
    "clfSVMC10Rbf10e6 = SVC(\n",
    "    C=10, kernel=\"rbf\", tol=10e-16, max_iter=int(10e6), random_state=SEED\n",
    ")"
   ]
  },
  {
   "cell_type": "markdown",
   "metadata": {},
   "source": [
    "## Sigmoid"
   ]
  },
  {
   "cell_type": "code",
   "execution_count": 16,
   "metadata": {},
   "outputs": [],
   "source": [
    "clfSVMC05Sig10e6 = SVC(\n",
    "    C=0.5, kernel=\"sigmoid\", tol=10e-16, max_iter=int(10e6), random_state=SEED\n",
    ")\n",
    "clfSVMC1Sig10e6 = SVC(\n",
    "    C=1, kernel=\"sigmoid\", tol=10e-16, max_iter=int(10e6), random_state=SEED\n",
    ")\n",
    "clfSVMC2Sig10e6 = SVC(\n",
    "    C=2, kernel=\"sigmoid\", tol=10e-16, max_iter=int(10e6), random_state=SEED\n",
    ")\n",
    "clfSVMC5Sig10e6 = SVC(\n",
    "    C=5, kernel=\"sigmoid\", tol=10e-16, max_iter=int(10e6), random_state=SEED\n",
    ")\n",
    "clfSVMC10Sig10e6 = SVC(\n",
    "    C=10, kernel=\"sigmoid\", tol=10e-16, max_iter=int(10e6), random_state=SEED\n",
    ")"
   ]
  },
  {
   "cell_type": "code",
   "execution_count": 17,
   "metadata": {},
   "outputs": [],
   "source": [
    "# TreeEntBest5 = classification(clf=clfSVM)"
   ]
  }
 ],
 "metadata": {
  "kernelspec": {
   "display_name": "Python 3",
   "language": "python",
   "name": "python3"
  },
  "language_info": {
   "codemirror_mode": {
    "name": "ipython",
    "version": 3
   },
   "file_extension": ".py",
   "mimetype": "text/x-python",
   "name": "python",
   "nbconvert_exporter": "python",
   "pygments_lexer": "ipython3",
   "version": "3.8.10"
  }
 },
 "nbformat": 4,
 "nbformat_minor": 2
}
